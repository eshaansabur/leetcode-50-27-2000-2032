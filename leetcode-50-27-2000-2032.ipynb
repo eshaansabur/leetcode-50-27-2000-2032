{
 "cells": [
  {
   "cell_type": "code",
   "execution_count": 1,
   "id": "cacb61f5-edc4-41ab-a67c-31521f6cc041",
   "metadata": {},
   "outputs": [
    {
     "data": {
      "text/plain": [
       "16.0"
      ]
     },
     "execution_count": 1,
     "metadata": {},
     "output_type": "execute_result"
    }
   ],
   "source": [
    "x=2.00000\n",
    "n= 4\n",
    "def myPow(x, n):\n",
    "    result= x ** n\n",
    "    return result\n",
    "\n",
    "myPow(x, n)"
   ]
  },
  {
   "cell_type": "code",
   "execution_count": 2,
   "id": "490026d4-afaa-48f6-bed2-0ea2ea7c1991",
   "metadata": {},
   "outputs": [
    {
     "data": {
      "text/plain": [
       "5"
      ]
     },
     "execution_count": 2,
     "metadata": {},
     "output_type": "execute_result"
    }
   ],
   "source": [
    "nums= [0,1,2,2,3,0,4,2]\n",
    "val = 2\n",
    "def removeElement(nums, val):\n",
    "    nums[:] = (value for value in nums if value != val)\n",
    "    return len(nums)\n",
    "removeElement(nums, val)"
   ]
  },
  {
   "cell_type": "code",
   "execution_count": 25,
   "id": "382c350c-6ad3-42a7-946e-477e7e5736c9",
   "metadata": {},
   "outputs": [
    {
     "data": {
      "text/plain": [
       "'zxyxxe'"
      ]
     },
     "execution_count": 25,
     "metadata": {},
     "output_type": "execute_result"
    }
   ],
   "source": [
    "word = \"xyxzxe\"\n",
    "ch = \"z\"\n",
    "def reversePrefix(word, ch):\n",
    "    ch_index = word.find(ch)\n",
    "    word_list= []\n",
    "    word_list[:0] = word\n",
    "    l2 = word_list[:ch_index+1]\n",
    "    l3= word_list[ch_index+1:]\n",
    "    l2.reverse()\n",
    "    word1= ''.join(l2)\n",
    "    word2= ''.join(l3)\n",
    "    final_word= word1+word2\n",
    "    return final_word\n",
    "\n",
    "reversePrefix(word, ch)"
   ]
  },
  {
   "cell_type": "code",
   "execution_count": 27,
   "id": "e353b8de-cecc-40b4-b296-a4093675e056",
   "metadata": {},
   "outputs": [
    {
     "data": {
      "text/plain": [
       "[3, 2]"
      ]
     },
     "execution_count": 27,
     "metadata": {},
     "output_type": "execute_result"
    }
   ],
   "source": [
    "nums1 = [1,1,3,2]\n",
    "nums2 = [2,3]\n",
    "nums3 = [3]\n",
    "def twoOutOfThree(nums1, nums2, nums3):\n",
    "    common= []\n",
    "    for n1 in nums1:\n",
    "        if n1 in nums2:\n",
    "            if n1 not in common:\n",
    "                common.append(n1)\n",
    "\n",
    "    nums_star= nums1+nums2\n",
    "    for n3 in nums3:\n",
    "        if n3 in nums_star:\n",
    "            if n3 not in common:\n",
    "                common.append(n3)\n",
    "\n",
    "    return common\n",
    "\n",
    "twoOutOfThree(nums1, nums2, nums3)"
   ]
  },
  {
   "cell_type": "code",
   "execution_count": null,
   "id": "f57e22a5-5cff-4808-8885-7eeaf71a22de",
   "metadata": {},
   "outputs": [],
   "source": []
  }
 ],
 "metadata": {
  "kernelspec": {
   "display_name": "Python 3 (ipykernel)",
   "language": "python",
   "name": "python3"
  },
  "language_info": {
   "codemirror_mode": {
    "name": "ipython",
    "version": 3
   },
   "file_extension": ".py",
   "mimetype": "text/x-python",
   "name": "python",
   "nbconvert_exporter": "python",
   "pygments_lexer": "ipython3",
   "version": "3.11.7"
  }
 },
 "nbformat": 4,
 "nbformat_minor": 5
}
